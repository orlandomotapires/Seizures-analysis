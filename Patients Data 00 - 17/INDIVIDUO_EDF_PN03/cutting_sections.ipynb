{
 "cells": [
  {
   "cell_type": "code",
   "execution_count": 1,
   "metadata": {},
   "outputs": [],
   "source": [
    "import pandas as pd\n",
    "import os\n",
    "import shutil\n",
    "import subprocess"
   ]
  },
  {
   "cell_type": "code",
   "execution_count": 2,
   "metadata": {},
   "outputs": [
    {
     "name": "stderr",
     "output_type": "stream",
     "text": [
      "C:\\Users\\orlando\\AppData\\Local\\Temp\\ipykernel_4720\\2045892482.py:13: DtypeWarning: Columns (0) have mixed types. Specify dtype option on import or set low_memory=False.\n",
      "  df = pd.read_csv(file_path, skiprows=range(1, start_row), nrows=end_row - start_row + 1, header=None)\n"
     ]
    },
    {
     "name": "stdout",
     "output_type": "stream",
     "text": [
      "                 Time        1      2       3      4       5       6       7  \\\n",
      "0                Time    1.000  2.000   3.000  4.000   5.000   6.000   7.000   \n",
      "1        37807.431641  -67.500  0.000  -7.750 -0.250  -6.625  -6.500 -10.750   \n",
      "2        37807.433594   -6.625  1.125 -16.250 -1.375  -7.625  -3.875  -8.000   \n",
      "3        37807.435547  -60.625  1.000  -1.750 -1.750  -8.250  -2.500  -5.875   \n",
      "4        37807.437500  219.750  0.625  93.500  0.125  -6.250  -0.375   0.750   \n",
      "...               ...      ...    ...     ...    ...     ...     ...     ...   \n",
      "999996   39760.546875  -17.625 -0.875  22.750  5.000  61.875  14.375  38.500   \n",
      "999997   39760.548828  -15.750  0.250  13.500  5.125  62.500  15.875  40.500   \n",
      "999998   39760.550781  -15.625  0.000   9.500  5.000  62.500  15.125  49.750   \n",
      "999999   39760.552734  -16.125 -0.625 -24.000  3.750  61.750  14.750  49.375   \n",
      "1000000  39760.554688  -16.750 -0.250 -26.125  3.375  60.625  19.500  52.750   \n",
      "\n",
      "               8        9  ...       26      27      28           29    30  \\\n",
      "0          8.000    9.000  ...   26.000  27.000  28.000    29.000000  30.0   \n",
      "1        -11.500  -27.000  ...  -87.125   1.875  -5.125  6999.750350   0.0   \n",
      "2        -10.625   -7.000  ...  -41.875   1.125  -4.625  7121.750356   0.0   \n",
      "3        -10.125   13.875  ...  -40.375  -0.250  -6.000  7259.000363   0.0   \n",
      "4         -7.375  162.250  ...    6.000  -0.625  -7.250  7121.750356   0.0   \n",
      "...          ...      ...  ...      ...     ...     ...          ...   ...   \n",
      "999996   169.625   28.750  ...  -95.125  11.500  -3.125  6923.500346   0.0   \n",
      "999997   168.750   13.375  ... -100.000   4.250  -5.250  6984.500349   0.0   \n",
      "999998   166.750   29.125  ... -100.625   5.625  -1.375  7060.750353   0.0   \n",
      "999999   169.625    7.375  ... -127.250   8.375   6.375  7198.000360   0.0   \n",
      "1000000  167.125  -27.125  ... -135.250  13.625   7.875  7228.500362   0.0   \n",
      "\n",
      "           31       32       33      34    35  \n",
      "0        31.0   32.000   33.000  34.000  35.0  \n",
      "1         0.0  -16.625  106.625  -0.125   8.0  \n",
      "2         0.0   -9.875  464.125   0.000   8.0  \n",
      "3         0.0   -5.500  922.125  -1.250   8.0  \n",
      "4         0.0   -8.875  897.500  -2.250   8.0  \n",
      "...       ...      ...      ...     ...   ...  \n",
      "999996    0.0  168.000  120.875 -23.125   8.0  \n",
      "999997    0.0  181.625  131.500 -21.750   8.0  \n",
      "999998    0.0  181.375  114.625 -21.750   8.0  \n",
      "999999    0.0  179.000  113.000 -19.875   8.0  \n",
      "1000000   0.0  184.125  152.500 -20.500   8.0  \n",
      "\n",
      "[1000001 rows x 36 columns]\n"
     ]
    }
   ],
   "source": [
    "import pandas as pd\n",
    "\n",
    "file_path = 'PN03-1_data.txt'\n",
    "\n",
    "# Carregar a primeira linha como cabeçalho\n",
    "df_header = pd.read_csv(file_path, nrows=1)\n",
    "\n",
    "# Definir o intervalo de linhas a serem lidas\n",
    "start_row = 19857406 - 500000  # Linha inicial (após o cabeçalho, 0-indexed)\n",
    "end_row = 19857406 + 500000    # Linha final (linha a ser lida, inclusive)\n",
    "\n",
    "# Carregar o intervalo específico de linhas\n",
    "df = pd.read_csv(file_path, skiprows=range(1, start_row), nrows=end_row - start_row + 1, header=None)\n",
    "\n",
    "# Definir as colunas do DataFrame com base no cabeçalho\n",
    "df.columns = df_header.columns\n",
    "\n",
    "print(df)"
   ]
  },
  {
   "cell_type": "markdown",
   "metadata": {},
   "source": [
    "General names\n",
    "- 03_Fp1_General  BLACK\n",
    "- 03_O1_General   RED\n",
    "- 03_Cz_General   GREEN\n",
    "- 03_Fp2_General  BLUE\n",
    "- 03_O2_General   Cyan\n",
    "\n",
    "Pre-ictal names\n",
    "- 03_Fp1_Pre-ictal  BLACK\n",
    "- 03_O1_Pre-ictal   RED\n",
    "- 03_Cz_Pre-ictal   GREEN\n",
    "- 03_Fp2_Pre-ictal  BLUE\n",
    "- 03_O2_Pre-ictal   Cyan\n",
    "\n",
    "Ictal names\n",
    "- 03_Fp1_Ictal      BLACK\n",
    "- 03_O1_Ictal       RED\n",
    "- 03_Cz_Ictal       GREEN\n",
    "- 03_Fp2_Ictal      BLUE\n",
    "- 03_O2_Ictal       Cyan\n",
    "\n",
    "Post-ictal names\n",
    "- 03_Fp1_Post-ictal  BLACK\n",
    "- 03_O1_Post-ictal   RED\n",
    "- 03_Cz_Post-ictal   GREEN\n",
    "- 03_Fp2_Post-ictal  BLUE\n",
    "- 03_O2_Post-ictal   Cyan"
   ]
  },
  {
   "cell_type": "code",
   "execution_count": 3,
   "metadata": {},
   "outputs": [],
   "source": [
    "channels_columns = [\n",
    "    ['1', 'C1'],   # B -> channel 1,  Fp1 Black\n",
    "    ['5', 'C5'],   # F -> channel 5,  O1 Red\n",
    "    ['15', 'C15'], # P -> channel 15, Cz Green\n",
    "    ['17', 'C17'], # R -> channel 17, Fp2 Blue\n",
    "    ['21', 'C21']  # V -> channel 21  O2 Cyan\n",
    "]"
   ]
  },
  {
   "cell_type": "code",
   "execution_count": 4,
   "metadata": {},
   "outputs": [],
   "source": [
    "def time_to_seconds(time_str):\n",
    "    h, m, s = map(int, time_str.split('.'))\n",
    "    return h * 3600 + m * 60 + s"
   ]
  },
  {
   "cell_type": "code",
   "execution_count": 5,
   "metadata": {},
   "outputs": [
    {
     "name": "stdout",
     "output_type": "stream",
     "text": [
      "Start Line Ictal: 813792\n",
      "End Line Ictal: 870624\n"
     ]
    }
   ],
   "source": [
    "#File name: PN03-1.edf\n",
    "#Registration start time:22.44.37\n",
    "#Registration end time: 11.41.34\n",
    "#Seizure start time:09.29.10\n",
    "#Seizure end time: 09.31.01\n",
    "\n",
    "## CORRECTED\n",
    "#Registration start time:00.44.37\n",
    "#Registration end time: 13.41.34\n",
    "#Seizure start time:11.29.10\n",
    "#Seizure end time: 11.31.01\n",
    "\n",
    "registration_start_time_sec = time_to_seconds('00.44.37')\n",
    "seizure_start_time_sec = time_to_seconds('11.29.10')\n",
    "seizure_end_time_sec = time_to_seconds('11.31.01')\n",
    "\n",
    "registration_start_time_sec = 19857406 + 500000\n",
    "\n",
    "start_line_ictal = seizure_start_time_sec * 512 - registration_start_time_sec - 2 # Taking the first two lines out of the count\n",
    "end_line_ictal =   seizure_end_time_sec * 512 - registration_start_time_sec - 2 # Taking the first two lines out of the count\n",
    "\n",
    "# Show the results\n",
    "print(f\"Start Line Ictal: {start_line_ictal}\")\n",
    "print(f\"End Line Ictal: {end_line_ictal}\")"
   ]
  },
  {
   "cell_type": "markdown",
   "metadata": {},
   "source": [
    "## Cutting the ICTAL series"
   ]
  },
  {
   "cell_type": "code",
   "execution_count": 6,
   "metadata": {},
   "outputs": [
    {
     "name": "stdout",
     "output_type": "stream",
     "text": [
      "values [ -92.125 -102.    -113.375 ...  -10.75   -10.     -13.625]\n",
      "values [ 3.     0.375  2.5   ... 42.25  42.5   49.875]\n",
      "values [-10.125 -19.5   -23.625 ...  24.375  32.75   36.125]\n",
      "values [-43.75  -42.    -49.375 ...  81.75   73.5    70.75 ]\n",
      "values [ 47.875  27.875  25.625 ...   5.75  -22.625 -19.375]\n"
     ]
    }
   ],
   "source": [
    "result_folder = 'ICTAL'\n",
    "if os.path.exists(result_folder):\n",
    "    shutil.rmtree(result_folder)\n",
    "os.makedirs(result_folder)\n",
    "\n",
    "for column, channel in channels_columns:\n",
    "    current_section = df.loc[start_line_ictal:end_line_ictal, column]\n",
    "    values = current_section.values\n",
    "    final_file_path = os.path.join(result_folder, channel + '.txt')\n",
    "    with open(final_file_path, 'w') as f:\n",
    "        for value in values:\n",
    "            f.write(f\"{value}\\n\")"
   ]
  },
  {
   "cell_type": "markdown",
   "metadata": {},
   "source": [
    "## Cutting the GENERAL series"
   ]
  },
  {
   "cell_type": "code",
   "execution_count": 7,
   "metadata": {},
   "outputs": [],
   "source": [
    "start_line_general = (start_line_ictal + end_line_ictal)/2 - 76800 # Calculating the general starting point based on 0.2.30 (2 minutes and 30 seconds) before the ictal starts\n",
    "end_line_general = (start_line_ictal + end_line_ictal)/2 + 76800   # Calculating the general ending point based on 0.2.30 (2 minutes and 30 seconds) after the ictal ends\n",
    "\n",
    "result_folder = 'GENERAL'\n",
    "if os.path.exists(result_folder):\n",
    "    shutil.rmtree(result_folder)\n",
    "os.makedirs(result_folder)\n",
    "\n",
    "for column, channel in channels_columns:\n",
    "    current_section = df.loc[start_line_general:end_line_general, column]\n",
    "    values = current_section.values\n",
    "    \n",
    "    final_file_path = os.path.join(result_folder, channel + '.txt')\n",
    "    with open(final_file_path, 'w') as f:\n",
    "        for value in values:\n",
    "            f.write(f\"{value}\\n\")"
   ]
  },
  {
   "cell_type": "markdown",
   "metadata": {},
   "source": [
    "## Cutting the PRE ICTAL series"
   ]
  },
  {
   "cell_type": "code",
   "execution_count": 8,
   "metadata": {},
   "outputs": [],
   "source": [
    "start_line_pre_ictal = start_line_ictal - (abs(start_line_ictal - end_line_ictal))  # Calculating the start of the pre-ictal based on the start of the ictal\n",
    "end_line_pre_ictal = start_line_ictal \n",
    "\n",
    "result_folder = 'PRE_ICTAL'\n",
    "if os.path.exists(result_folder):\n",
    "    shutil.rmtree(result_folder)\n",
    "os.makedirs(result_folder)\n",
    "\n",
    "for column, channel in channels_columns:\n",
    "    current_section = df.loc[start_line_pre_ictal:end_line_pre_ictal, column]\n",
    "    values = current_section.values\n",
    "    \n",
    "    final_file_path = os.path.join(result_folder, channel + '.txt')\n",
    "    with open(final_file_path, 'w') as f:\n",
    "        for value in values:\n",
    "            f.write(f\"{value}\\n\")"
   ]
  },
  {
   "cell_type": "markdown",
   "metadata": {},
   "source": [
    "## Cutting the POST ICTAL series"
   ]
  },
  {
   "cell_type": "code",
   "execution_count": 9,
   "metadata": {},
   "outputs": [],
   "source": [
    "start_line_post_ictal = end_line_ictal \n",
    "end_line_post_ictal = end_line_ictal + (abs(start_line_ictal - end_line_ictal)) # Calculating the end of the post-ictal based on the end of the ictal\n",
    "\n",
    "result_folder = 'POST_ICTAL'\n",
    "if os.path.exists(result_folder):\n",
    "    shutil.rmtree(result_folder)\n",
    "os.makedirs(result_folder)\n",
    "\n",
    "for column, channel in channels_columns:\n",
    "    current_section = df.loc[start_line_post_ictal:end_line_post_ictal, column]\n",
    "    values = current_section.values\n",
    "    \n",
    "    final_file_path = os.path.join(result_folder, channel + '.txt')\n",
    "    with open(final_file_path, 'w') as f:\n",
    "        for value in values:\n",
    "            f.write(f\"{value}\\n\")"
   ]
  },
  {
   "cell_type": "markdown",
   "metadata": {},
   "source": [
    "# Running DFA"
   ]
  },
  {
   "cell_type": "code",
   "execution_count": 10,
   "metadata": {},
   "outputs": [
    {
     "name": "stdout",
     "output_type": "stream",
     "text": [
      "input_files a: ['GENERAL\\\\C1.txt', 'GENERAL\\\\C15.txt']\n",
      "output_files a: ['GENERAL\\\\C1.dat', 'GENERAL\\\\C15.dat']\n",
      "Saída do dfa12.exe na pasta GENERAL:\n",
      "Entre com o nome da primeira serie a ser lida:\n",
      "Entre com o nome da segunda serie a ser lida:\n",
      "(....com o mesmo numero de pontos N):\n",
      "Qual o nome do primeiro arquivo de saida (para o DFA1)?\n",
      "Qual o nome do segundo arquivo de saida (para o DFA2)?\n",
      "\n",
      "input_files a: ['GENERAL\\\\C17.txt', 'GENERAL\\\\C21.txt']\n",
      "output_files a: ['GENERAL\\\\C17.dat', 'GENERAL\\\\C21.dat']\n",
      "Saída do dfa12.exe na pasta GENERAL:\n",
      "Entre com o nome da primeira serie a ser lida:\n",
      "Entre com o nome da segunda serie a ser lida:\n",
      "(....com o mesmo numero de pontos N):\n",
      "Qual o nome do primeiro arquivo de saida (para o DFA1)?\n",
      "Qual o nome do segundo arquivo de saida (para o DFA2)?\n",
      "\n",
      "input_files b: ['GENERAL\\\\C5.txt', 'GENERAL\\\\C5.txt']\n",
      "output_files b: ['GENERAL\\\\C5.dat', 'GENERAL\\\\C5.dat']\n",
      "Saída do dfa12.exe na pasta GENERAL:\n",
      "Entre com o nome da primeira serie a ser lida:\n",
      "Entre com o nome da segunda serie a ser lida:\n",
      "(....com o mesmo numero de pontos N):\n",
      "Qual o nome do primeiro arquivo de saida (para o DFA1)?\n",
      "Qual o nome do segundo arquivo de saida (para o DFA2)?\n",
      "\n",
      "input_files a: ['ICTAL\\\\C1.txt', 'ICTAL\\\\C15.txt']\n",
      "output_files a: ['ICTAL\\\\C1.dat', 'ICTAL\\\\C15.dat']\n",
      "Saída do dfa12.exe na pasta ICTAL:\n",
      "Entre com o nome da primeira serie a ser lida:\n",
      "Entre com o nome da segunda serie a ser lida:\n",
      "(....com o mesmo numero de pontos N):\n",
      "Qual o nome do primeiro arquivo de saida (para o DFA1)?\n",
      "Qual o nome do segundo arquivo de saida (para o DFA2)?\n",
      "\n",
      "input_files a: ['ICTAL\\\\C17.txt', 'ICTAL\\\\C21.txt']\n",
      "output_files a: ['ICTAL\\\\C17.dat', 'ICTAL\\\\C21.dat']\n",
      "Saída do dfa12.exe na pasta ICTAL:\n",
      "Entre com o nome da primeira serie a ser lida:\n",
      "Entre com o nome da segunda serie a ser lida:\n",
      "(....com o mesmo numero de pontos N):\n",
      "Qual o nome do primeiro arquivo de saida (para o DFA1)?\n",
      "Qual o nome do segundo arquivo de saida (para o DFA2)?\n",
      "\n",
      "input_files b: ['ICTAL\\\\C5.txt', 'ICTAL\\\\C5.txt']\n",
      "output_files b: ['ICTAL\\\\C5.dat', 'ICTAL\\\\C5.dat']\n",
      "Saída do dfa12.exe na pasta ICTAL:\n",
      "Entre com o nome da primeira serie a ser lida:\n",
      "Entre com o nome da segunda serie a ser lida:\n",
      "(....com o mesmo numero de pontos N):\n",
      "Qual o nome do primeiro arquivo de saida (para o DFA1)?\n",
      "Qual o nome do segundo arquivo de saida (para o DFA2)?\n",
      "\n",
      "input_files a: ['PRE_ICTAL\\\\C1.txt', 'PRE_ICTAL\\\\C15.txt']\n",
      "output_files a: ['PRE_ICTAL\\\\C1.dat', 'PRE_ICTAL\\\\C15.dat']\n",
      "Saída do dfa12.exe na pasta PRE_ICTAL:\n",
      "Entre com o nome da primeira serie a ser lida:\n",
      "Entre com o nome da segunda serie a ser lida:\n",
      "(....com o mesmo numero de pontos N):\n",
      "Qual o nome do primeiro arquivo de saida (para o DFA1)?\n",
      "Qual o nome do segundo arquivo de saida (para o DFA2)?\n",
      "\n",
      "input_files a: ['PRE_ICTAL\\\\C17.txt', 'PRE_ICTAL\\\\C21.txt']\n",
      "output_files a: ['PRE_ICTAL\\\\C17.dat', 'PRE_ICTAL\\\\C21.dat']\n",
      "Saída do dfa12.exe na pasta PRE_ICTAL:\n",
      "Entre com o nome da primeira serie a ser lida:\n",
      "Entre com o nome da segunda serie a ser lida:\n",
      "(....com o mesmo numero de pontos N):\n",
      "Qual o nome do primeiro arquivo de saida (para o DFA1)?\n",
      "Qual o nome do segundo arquivo de saida (para o DFA2)?\n",
      "\n",
      "input_files b: ['PRE_ICTAL\\\\C5.txt', 'PRE_ICTAL\\\\C5.txt']\n",
      "output_files b: ['PRE_ICTAL\\\\C5.dat', 'PRE_ICTAL\\\\C5.dat']\n",
      "Saída do dfa12.exe na pasta PRE_ICTAL:\n",
      "Entre com o nome da primeira serie a ser lida:\n",
      "Entre com o nome da segunda serie a ser lida:\n",
      "(....com o mesmo numero de pontos N):\n",
      "Qual o nome do primeiro arquivo de saida (para o DFA1)?\n",
      "Qual o nome do segundo arquivo de saida (para o DFA2)?\n",
      "\n",
      "input_files a: ['POST_ICTAL\\\\C1.txt', 'POST_ICTAL\\\\C15.txt']\n",
      "output_files a: ['POST_ICTAL\\\\C1.dat', 'POST_ICTAL\\\\C15.dat']\n",
      "Saída do dfa12.exe na pasta POST_ICTAL:\n",
      "Entre com o nome da primeira serie a ser lida:\n",
      "Entre com o nome da segunda serie a ser lida:\n",
      "(....com o mesmo numero de pontos N):\n",
      "Qual o nome do primeiro arquivo de saida (para o DFA1)?\n",
      "Qual o nome do segundo arquivo de saida (para o DFA2)?\n",
      "\n",
      "input_files a: ['POST_ICTAL\\\\C17.txt', 'POST_ICTAL\\\\C21.txt']\n",
      "output_files a: ['POST_ICTAL\\\\C17.dat', 'POST_ICTAL\\\\C21.dat']\n",
      "Saída do dfa12.exe na pasta POST_ICTAL:\n",
      "Entre com o nome da primeira serie a ser lida:\n",
      "Entre com o nome da segunda serie a ser lida:\n",
      "(....com o mesmo numero de pontos N):\n",
      "Qual o nome do primeiro arquivo de saida (para o DFA1)?\n",
      "Qual o nome do segundo arquivo de saida (para o DFA2)?\n",
      "\n",
      "input_files b: ['POST_ICTAL\\\\C5.txt', 'POST_ICTAL\\\\C5.txt']\n",
      "output_files b: ['POST_ICTAL\\\\C5.dat', 'POST_ICTAL\\\\C5.dat']\n",
      "Saída do dfa12.exe na pasta POST_ICTAL:\n",
      "Entre com o nome da primeira serie a ser lida:\n",
      "Entre com o nome da segunda serie a ser lida:\n",
      "(....com o mesmo numero de pontos N):\n",
      "Qual o nome do primeiro arquivo de saida (para o DFA1)?\n",
      "Qual o nome do segundo arquivo de saida (para o DFA2)?\n",
      "\n"
     ]
    }
   ],
   "source": [
    "def run_dfa_exe(directory, input_files, output_files):\n",
    "    dfa_exe_path = 'dfa12.exe'\n",
    "    \n",
    "    command = [dfa_exe_path]\n",
    "    \n",
    "    input_str = (\n",
    "        f\"{input_files[0]}\\n\"\n",
    "        f\"{input_files[1]}\\n\"\n",
    "        f\"{output_files[0]}\\n\"\n",
    "        f\"{output_files[1]}\\n\"\n",
    "    )\n",
    "    \n",
    "    process = subprocess.Popen(command, stdin=subprocess.PIPE, stdout=subprocess.PIPE, stderr=subprocess.PIPE, text=True)\n",
    "    stdout, stderr = process.communicate(input=input_str)\n",
    "    \n",
    "    if process.returncode != 0:\n",
    "        print(f\"Erro ao executar dfa12.exe na pasta {directory}: {stderr}\")\n",
    "    else:\n",
    "        print(f\"Saída do dfa12.exe na pasta {directory}:\\n{stdout}\")\n",
    "\n",
    "def process_directory(directory):\n",
    "    files = [f for f in os.listdir(directory) if f.endswith('.txt')]\n",
    "    files.sort() \n",
    "\n",
    "    for i in range(0, len(files), 2):\n",
    "        if i + 1 < len(files):\n",
    "            input_files = [os.path.join(directory, files[i]), os.path.join(directory, files[i + 1])]\n",
    "            output_files = [os.path.join(directory, files[i].replace('.txt', '.dat')), os.path.join(directory, files[i + 1].replace('.txt', '.dat'))]\n",
    "\n",
    "            print(\"input_files a:\", input_files)\n",
    "            print(\"output_files a:\", output_files)\n",
    "            run_dfa_exe(directory, input_files, output_files)\n",
    "        else:\n",
    "            input_files = [os.path.join(directory, files[i]), os.path.join(directory, files[i])]\n",
    "            output_files = [os.path.join(directory, files[i].replace('.txt', '.dat'))] * 2\n",
    "\n",
    "            print(\"input_files b:\", input_files)\n",
    "            print(\"output_files b:\", output_files)\n",
    "            run_dfa_exe(directory, input_files, output_files)\n",
    "\n",
    "directories = ['GENERAL', 'ICTAL', 'PRE_ICTAL', 'POST_ICTAL']\n",
    "\n",
    "for directory in directories:\n",
    "    if os.path.exists(directory):\n",
    "        process_directory(directory)\n",
    "    else:\n",
    "        print(f\"Pasta {directory} não encontrada.\")\n"
   ]
  }
 ],
 "metadata": {
  "kernelspec": {
   "display_name": "tensor-gpu-env",
   "language": "python",
   "name": "python3"
  },
  "language_info": {
   "codemirror_mode": {
    "name": "ipython",
    "version": 3
   },
   "file_extension": ".py",
   "mimetype": "text/x-python",
   "name": "python",
   "nbconvert_exporter": "python",
   "pygments_lexer": "ipython3",
   "version": "3.11.9"
  }
 },
 "nbformat": 4,
 "nbformat_minor": 2
}
