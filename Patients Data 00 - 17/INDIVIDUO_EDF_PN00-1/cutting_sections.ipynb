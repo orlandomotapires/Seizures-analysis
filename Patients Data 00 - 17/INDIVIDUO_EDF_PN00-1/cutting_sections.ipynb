{
 "cells": [
  {
   "cell_type": "code",
   "execution_count": 3,
   "metadata": {},
   "outputs": [],
   "source": [
    "import pandas as pd\n",
    "import os\n",
    "import shutil\n",
    "import subprocess"
   ]
  },
  {
   "cell_type": "code",
   "execution_count": 4,
   "metadata": {},
   "outputs": [],
   "source": [
    "file_path = 'PN00-1_data.txt'\n",
    "df = pd.read_csv(file_path)"
   ]
  },
  {
   "cell_type": "markdown",
   "metadata": {},
   "source": [
    "General names\n",
    "- 00_Fp1_General  BLACK\n",
    "- 00_O1_General   RED\n",
    "- 00_Cz_General   GREEN\n",
    "- 00_Fp2_General  BLUE\n",
    "- 00_O2_General   Cyan\n",
    "\n",
    "Pre-ictal names\n",
    "- 00_Fp1_Pre-ictal  BLACK\n",
    "- 00_O1_Pre-ictal   RED\n",
    "- 00_Cz_Pre-ictal   GREEN\n",
    "- 00_Fp2_Pre-ictal  BLUE\n",
    "- 00_O2_Pre-ictal   Cyan\n",
    "\n",
    "Ictal names\n",
    "- 00_Fp1_Ictal      BLACK\n",
    "- 00_O1_Ictal       RED\n",
    "- 00_Cz_Ictal       GREEN\n",
    "- 00_Fp2_Ictal      BLUE\n",
    "- 00_O2_Ictal       Cyan\n",
    "\n",
    "Post-ictal names\n",
    "- 00_Fp1_Post-ictal  BLACK\n",
    "- 00_O1_Post-ictal   RED\n",
    "- 00_Cz_Post-ictal   GREEN\n",
    "- 00_Fp2_Post-ictal  BLUE\n",
    "- 00_O2_Post-ictal   Cyan"
   ]
  },
  {
   "cell_type": "code",
   "execution_count": 5,
   "metadata": {},
   "outputs": [],
   "source": [
    "channels_columns = [\n",
    "    ['1', 'C1'],   # B -> channel 1,  Fp1 Black\n",
    "    ['5', 'C5'],   # F -> channel 5,  O1 Red\n",
    "    ['15', 'C15'], # P -> channel 15, Cz Green\n",
    "    ['17', 'C17'], # R -> channel 17, Fp2 Blue\n",
    "    ['21', 'C21']  # V -> channel 21  O2 Cyan\n",
    "]"
   ]
  },
  {
   "cell_type": "code",
   "execution_count": 6,
   "metadata": {},
   "outputs": [],
   "source": [
    "def time_to_seconds(time_str):\n",
    "    h, m, s = map(int, time_str.split('.'))\n",
    "    return h * 3600 + m * 60 + s"
   ]
  },
  {
   "cell_type": "code",
   "execution_count": 10,
   "metadata": {},
   "outputs": [
    {
     "name": "stdout",
     "output_type": "stream",
     "text": [
      "Start Line Ictal: 391678\n",
      "End Line Ictal: 422398\n"
     ]
    }
   ],
   "source": [
    "#Seizure n 1\n",
    "#File name: PN00-1.edf\n",
    "#Registration start time: 19.39.33\n",
    "#Registration end time:  20.22.58\n",
    "#Seizure start time: 19.58.36\n",
    "#Seizure end time: 19.59.46\n",
    "\n",
    "registration_start_time_sec = time_to_seconds('19.39.33')\n",
    "seizure_start_time_sec = time_to_seconds('19.58.36')\n",
    "seizure_end_time_sec = time_to_seconds('19.59.46')\n",
    "\n",
    "start_line_ictal = (seizure_start_time_sec - registration_start_time_sec) * 512 - 2 # Taking the first two lines out of the count\n",
    "end_line_ictal =   (seizure_end_time_sec - registration_start_time_sec) * 512   - 2 # Taking the first two lines out of the count\n",
    "\n",
    "# Show the results\n",
    "print(f\"Start Line Ictal: {start_line_ictal}\")\n",
    "print(f\"End Line Ictal: {end_line_ictal}\")"
   ]
  },
  {
   "cell_type": "markdown",
   "metadata": {},
   "source": [
    "## Cutting the ICTAL series"
   ]
  },
  {
   "cell_type": "code",
   "execution_count": null,
   "metadata": {},
   "outputs": [],
   "source": [
    "result_folder = 'ICTAL'\n",
    "if os.path.exists(result_folder):\n",
    "    shutil.rmtree(result_folder)\n",
    "os.makedirs(result_folder)\n",
    "\n",
    "for column, channel in channels_columns:\n",
    "    current_section = df.loc[start_line_ictal:end_line_ictal, column]\n",
    "    values = current_section.values\n",
    "    \n",
    "    final_file_path = os.path.join(result_folder, channel + '.txt')\n",
    "    with open(final_file_path, 'w') as f:\n",
    "        for value in values:\n",
    "            f.write(f\"{value}\\n\")"
   ]
  },
  {
   "cell_type": "markdown",
   "metadata": {},
   "source": [
    "## Cutting the GENERAL series"
   ]
  },
  {
   "cell_type": "code",
   "execution_count": 5,
   "metadata": {},
   "outputs": [],
   "source": [
    "start_line_general = (start_line_ictal + end_line_ictal)/2 - 76800 # Calculating the general starting point based on 0.2.30 (2 minutes and 30 seconds) before the ictal starts\n",
    "end_line_general = (start_line_ictal + end_line_ictal)/2 + 76800   # Calculating the general ending point based on 0.2.30 (2 minutes and 30 seconds) after the ictal ends\n",
    "\n",
    "result_folder = 'GENERAL'\n",
    "if os.path.exists(result_folder):\n",
    "    shutil.rmtree(result_folder)\n",
    "os.makedirs(result_folder)\n",
    "\n",
    "for column, channel in channels_columns:\n",
    "    current_section = df.loc[start_line_general:end_line_general, column]\n",
    "    values = current_section.values\n",
    "    \n",
    "    final_file_path = os.path.join(result_folder, channel + '.txt')\n",
    "    with open(final_file_path, 'w') as f:\n",
    "        for value in values:\n",
    "            f.write(f\"{value}\\n\")"
   ]
  },
  {
   "cell_type": "markdown",
   "metadata": {},
   "source": [
    "## Cutting the PRE ICTAL series"
   ]
  },
  {
   "cell_type": "code",
   "execution_count": 6,
   "metadata": {},
   "outputs": [],
   "source": [
    "start_line_pre_ictal = start_line_ictal - (abs(start_line_ictal - end_line_ictal))  # Calculating the start of the pre-ictal based on the start of the ictal\n",
    "end_line_pre_ictal = start_line_ictal \n",
    "\n",
    "result_folder = 'PRE_ICTAL'\n",
    "if os.path.exists(result_folder):\n",
    "    shutil.rmtree(result_folder)\n",
    "os.makedirs(result_folder)\n",
    "\n",
    "for column, channel in channels_columns:\n",
    "    current_section = df.loc[start_line_pre_ictal:end_line_pre_ictal, column]\n",
    "    values = current_section.values\n",
    "    \n",
    "    final_file_path = os.path.join(result_folder, channel + '.txt')\n",
    "    with open(final_file_path, 'w') as f:\n",
    "        for value in values:\n",
    "            f.write(f\"{value}\\n\")"
   ]
  },
  {
   "cell_type": "markdown",
   "metadata": {},
   "source": [
    "## Cutting the POST ICTAL series"
   ]
  },
  {
   "cell_type": "code",
   "execution_count": 7,
   "metadata": {},
   "outputs": [],
   "source": [
    "start_line_post_ictal = end_line_ictal \n",
    "end_line_post_ictal = end_line_ictal + (abs(start_line_ictal - end_line_ictal)) # Calculating the end of the post-ictal based on the end of the ictal\n",
    "\n",
    "result_folder = 'POST_ICTAL'\n",
    "if os.path.exists(result_folder):\n",
    "    shutil.rmtree(result_folder)\n",
    "os.makedirs(result_folder)\n",
    "\n",
    "for column, channel in channels_columns:\n",
    "    current_section = df.loc[start_line_post_ictal:end_line_post_ictal, column]\n",
    "    values = current_section.values\n",
    "    \n",
    "    final_file_path = os.path.join(result_folder, channel + '.txt')\n",
    "    with open(final_file_path, 'w') as f:\n",
    "        for value in values:\n",
    "            f.write(f\"{value}\\n\")"
   ]
  },
  {
   "cell_type": "markdown",
   "metadata": {},
   "source": [
    "# Running DFA"
   ]
  },
  {
   "cell_type": "code",
   "execution_count": 8,
   "metadata": {},
   "outputs": [
    {
     "name": "stdout",
     "output_type": "stream",
     "text": [
      "input_files a: ['GENERAL\\\\C1.txt', 'GENERAL\\\\C15.txt']\n",
      "output_files a: ['GENERAL\\\\C1.dat', 'GENERAL\\\\C15.dat']\n"
     ]
    }
   ],
   "source": [
    "def run_dfa_exe(directory, input_files, output_files):\n",
    "    dfa_exe_path = 'dfa12.exe'\n",
    "    \n",
    "    command = [dfa_exe_path]\n",
    "    \n",
    "    input_str = (\n",
    "        f\"{input_files[0]}\\n\"\n",
    "        f\"{input_files[1]}\\n\"\n",
    "        f\"{output_files[0]}\\n\"\n",
    "        f\"{output_files[1]}\\n\"\n",
    "    )\n",
    "    \n",
    "    process = subprocess.Popen(command, stdin=subprocess.PIPE, stdout=subprocess.PIPE, stderr=subprocess.PIPE, text=True)\n",
    "    stdout, stderr = process.communicate(input=input_str)\n",
    "    \n",
    "    if process.returncode != 0:\n",
    "        print(f\"Erro ao executar dfa12.exe na pasta {directory}: {stderr}\")\n",
    "    else:\n",
    "        print(f\"Saída do dfa12.exe na pasta {directory}:\\n{stdout}\")\n",
    "\n",
    "def process_directory(directory):\n",
    "    files = [f for f in os.listdir(directory) if f.endswith('.txt')]\n",
    "    files.sort() \n",
    "\n",
    "    for i in range(0, len(files), 2):\n",
    "        if i + 1 < len(files):\n",
    "            input_files = [os.path.join(directory, files[i]), os.path.join(directory, files[i + 1])]\n",
    "            output_files = [os.path.join(directory, files[i].replace('.txt', '.dat')), os.path.join(directory, files[i + 1].replace('.txt', '.dat'))]\n",
    "\n",
    "            print(\"input_files a:\", input_files)\n",
    "            print(\"output_files a:\", output_files)\n",
    "            run_dfa_exe(directory, input_files, output_files)\n",
    "        else:\n",
    "            input_files = [os.path.join(directory, files[i]), os.path.join(directory, files[i])]\n",
    "            output_files = [os.path.join(directory, files[i].replace('.txt', '.dat'))] * 2\n",
    "\n",
    "            print(\"input_files b:\", input_files)\n",
    "            print(\"output_files b:\", output_files)\n",
    "            run_dfa_exe(directory, input_files, output_files)\n",
    "\n",
    "directories = ['GENERAL', 'ICTAL', 'PRE_ICTAL', 'POST_ICTAL']\n",
    "\n",
    "for directory in directories:\n",
    "    if os.path.exists(directory):\n",
    "        process_directory(directory)\n",
    "    else:\n",
    "        print(f\"Pasta {directory} não encontrada.\")\n"
   ]
  }
 ],
 "metadata": {
  "kernelspec": {
   "display_name": "tensor-gpu-env",
   "language": "python",
   "name": "python3"
  },
  "language_info": {
   "codemirror_mode": {
    "name": "ipython",
    "version": 3
   },
   "file_extension": ".py",
   "mimetype": "text/x-python",
   "name": "python",
   "nbconvert_exporter": "python",
   "pygments_lexer": "ipython3",
   "version": "3.11.9"
  }
 },
 "nbformat": 4,
 "nbformat_minor": 2
}
